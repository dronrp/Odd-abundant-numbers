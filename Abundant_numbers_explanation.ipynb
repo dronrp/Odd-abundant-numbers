{
  "nbformat": 4,
  "nbformat_minor": 0,
  "metadata": {
    "colab": {
      "name": "Abundant numbers explanation.ipynb",
      "provenance": [],
      "authorship_tag": "ABX9TyPCuxH3ZHxO+eTjH6Trw9J1",
      "include_colab_link": true
    },
    "kernelspec": {
      "name": "python3",
      "display_name": "Python 3"
    }
  },
  "cells": [
    {
      "cell_type": "markdown",
      "metadata": {
        "id": "view-in-github",
        "colab_type": "text"
      },
      "source": [
        "<a href=\"https://colab.research.google.com/github/dronrp/Odd-abundant-numbers/blob/main/Abundant_numbers_explanation.ipynb\" target=\"_parent\"><img src=\"https://colab.research.google.com/assets/colab-badge.svg\" alt=\"Open In Colab\"/></a>"
      ]
    },
    {
      "cell_type": "markdown",
      "metadata": {
        "id": "mpLpp9GG-z9Q"
      },
      "source": [
        "# Abundant numbers\r\n",
        "\r\n",
        "Abundants numbers are numbers that the sum of all its proper divisors is greater than the value of the number.\r\n",
        "\r\n",
        "\r\n",
        "\r\n",
        "\r\n",
        "\r\n"
      ]
    },
    {
      "cell_type": "markdown",
      "metadata": {
        "id": "g_EH8hPqApH7"
      },
      "source": [
        "12 is an abundant because is smaller than the sum of its proper divisors (divisors of a number excluding itself).  \r\n",
        "\r\n",
        "\r\n",
        "$d(12) = 1,2,3,4,6$\r\n",
        "\r\n",
        "$1+2+3+4+6 = 16$ \r\n",
        "\r\n",
        "$16 > 12$"
      ]
    },
    {
      "cell_type": "markdown",
      "metadata": {
        "id": "8syAdxdrB7Sn"
      },
      "source": [
        "Prime numbers are not abundant. The first abundant numbers are: 12, 18, 20, 24 and 30, all even. However, there are some abundant numbers odd.\r\n",
        "\r\n"
      ]
    },
    {
      "cell_type": "markdown",
      "metadata": {
        "id": "04a2o1unCW1C"
      },
      "source": [
        "## The code"
      ]
    },
    {
      "cell_type": "code",
      "metadata": {
        "colab": {
          "base_uri": "https://localhost:8080/"
        },
        "id": "85ZY1V6wB5eK",
        "outputId": "075154ec-fdac-4190-8181-f18850062c78"
      },
      "source": [
        "import math\r\n",
        "\r\n",
        "def numberDivisors(n):\r\n",
        "    divisors = [1]\r\n",
        "    i = 3\r\n",
        "    while i <= math.sqrt(n):\r\n",
        "        if n%i == 0:\r\n",
        "            if n/i == i:\r\n",
        "                divisors.append(i)\r\n",
        "            else:\r\n",
        "                divisors.extend([i,n//i])\r\n",
        "\r\n",
        "        i+=2\r\n",
        "    return sum(divisors)\r\n",
        "\r\n",
        "def oddAbundantNumbers():\r\n",
        "    ans = []\r\n",
        "    for i in range(9, 100000, 2):\r\n",
        "        if i < numberDivisors(i):\r\n",
        "            ans.append(i)\r\n",
        "\r\n",
        "    print(ans)\r\n",
        "\r\n",
        "if __name__ == \"__main__\":\r\n",
        "    oddAbundantNumbers()\r\n"
      ],
      "execution_count": 1,
      "outputs": [
        {
          "output_type": "stream",
          "text": [
            "[945, 1575, 2205, 2835, 3465, 4095, 4725, 5355, 5775, 5985, 6435, 6615, 6825, 7245, 7425, 7875, 8085, 8415, 8505, 8925, 9135, 9555, 9765, 10395, 11025, 11655, 12285, 12705, 12915, 13545, 14175, 14805, 15015, 15435, 16065, 16695, 17325, 17955, 18585, 19215, 19305, 19635, 19845, 20475, 21105, 21735, 21945, 22275, 22365, 22995, 23205, 23625, 24255, 24885, 25245, 25515, 25935, 26145, 26565, 26775, 27405, 28035, 28215, 28665, 28875, 29295, 29835, 29925, 30555, 31185, 31395, 31815, 32175, 32445, 33075, 33345, 33495, 33915, 34125, 34155, 34965, 35805, 36225, 36855, 37125, 37485, 38115, 38745, 39375, 39585, 40425, 40635, 41055, 41895, 42075, 42315, 42525, 42735, 43065, 44415, 44625, 45045, 45675, 45885, 46035, 46305, 47025, 47355, 47775, 48195, 48825, 49665, 49725, 49875, 50085, 50505, 50715, 51765, 51975, 53235, 53865, 54285, 55125, 55575, 55755, 55965, 56595, 56925, 57645, 57915, 58275, 58695, 58905, 59535, 61215, 61425, 62475, 63315, 63525, 63945, 64155, 64575, 65205, 65835, 66825, 66885, 67095, 67275, 67725, 68145, 68355, 68985, 69615, 69825, 70455, 70785, 70875, 71775, 72345, 72765, 74025, 74655, 75075, 75735, 76545, 76725, 77175, 77385, 77805, 78435, 78975, 79695, 80325, 80535, 81081, 81585, 81675, 82005, 82215, 83265, 83475, 83655, 84105, 84315, 84525, 84645, 85995, 86625, 87885, 88725, 88935, 89505, 89775, 90405, 91035, 91245, 91575, 91665, 92565, 92925, 93555, 94185, 94815, 95445, 95865, 96075, 96525, 97335, 98175, 99225]\n"
          ],
          "name": "stdout"
        }
      ]
    }
  ]
}